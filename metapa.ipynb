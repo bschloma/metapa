{
 "cells": [
  {
   "cell_type": "markdown",
   "metadata": {},
   "source": [
    "metapa.py\n",
    "\n",
    "extending the PA model of Fisher + Mehta (2014), Dickens, Fisher, + Mehta (2016) to a metacommunity framework.\n",
    "\n",
    "parameters:\n",
    "\n",
    "$\\lambda$: \n",
    "$\\mu_c$, $\\sigma_c$: \n",
    "$\\mu_K$, $\\sigma_K$:\n",
    "$\\mu_{\\delta}$, $\\sigma_{\\delta}$:\n",
    "    "
   ]
  },
  {
   "cell_type": "code",
   "execution_count": 2,
   "metadata": {
    "collapsed": false
   },
   "outputs": [],
   "source": [
    "import numpy as np\n",
    "import matplotlib.pyplot as plt\n",
    "\n"
   ]
  },
  {
   "cell_type": "code",
   "execution_count": 39,
   "metadata": {
    "collapsed": false
   },
   "outputs": [],
   "source": [
    "class mpaParams:\n",
    "    \n",
    "    # Minimal class for keeping track of model parameters\n",
    "    \n",
    "    def __init__(self):\n",
    "        \n",
    "        self.lam = .1\n",
    "        self.mu_c = .1\n",
    "        self.sig2_c = .05\n",
    "        self.mu_K = 100\n",
    "        self.sig2_K = 70.\n",
    "        self.mu_d = .1\n",
    "        self.sig2_d = .05\n",
    "        self.w = 1.\n",
    "        self.dKcov = .02\n",
    "        \n",
    "        self.numsteps = 0\n",
    "        self.numtrials = 0\n",
    "        \n",
    "        self.M = 9\n",
    "        self.N = 2\n",
    "        \n"
   ]
  },
  {
   "cell_type": "code",
   "execution_count": 388,
   "metadata": {
    "collapsed": false
   },
   "outputs": [
    {
     "data": {
      "text/plain": [
       "{'M': 3,\n",
       " 'N': 1,\n",
       " 'lam': 0.0,\n",
       " 'mu_K': 0.0,\n",
       " 'mu_c': 0.0,\n",
       " 'mu_d': 0.0,\n",
       " 'numsteps': 0,\n",
       " 'numtrials': 0,\n",
       " 'sig2_K': 0.0,\n",
       " 'sig2_c': 0.0,\n",
       " 'sig2_d': 0.0,\n",
       " 'w': 1.0}"
      ]
     },
     "execution_count": 388,
     "metadata": {},
     "output_type": "execute_result"
    }
   ],
   "source": [
    "# check out the params\n",
    "params = mpaParams()\n",
    "params.__dict__"
   ]
  },
  {
   "cell_type": "code",
   "execution_count": 204,
   "metadata": {
    "collapsed": false
   },
   "outputs": [],
   "source": [
    "\"\"\"This is the main class for the metapa model.\"\"\"\n",
    "\n",
    "class metapa:\n",
    "    \n",
    "    def __init__(self):\n",
    "        \"\"\"initialze metapa class.\"\"\"\n",
    "        \n",
    "        # mpaParams class for storing and editing parameter values\n",
    "        self.params = mpaParams()\n",
    "        \n",
    "        # species field (MxMxN)\n",
    "        self.initS()\n",
    "        \n",
    "    def initS(self):\n",
    "        \"\"\"intialize species field.  currently initializes randomly, uniformly. \n",
    "        After changing M or N, need to call initS again to reinitialize.\n",
    "        \n",
    "        To do:  add other options, i.e. for invasion studies\"\"\"\n",
    "        \n",
    "        \n",
    "        # fraction initialized as 1.  possibly add to mpaParams\n",
    "        initThresh = .5\n",
    "        compareThresh = 1-initThresh\n",
    "        \n",
    "        # species field s, initialized with uniform random numbers\n",
    "        self.s = np.random.rand(self.params.M,self.params.M,self.params.N)\n",
    "        \n",
    "        # mask with initThresh\n",
    "        self.s[self.s <= compareThresh] = 0.\n",
    "        self.s[self.s > compareThresh] = 1.\n",
    "    \n",
    "        \n",
    "    \n",
    "    def initRates(self):\n",
    "        \"\"\"intialize arrays with repeated values of d,K, and l, (MxMxN), \n",
    "        and construct interaction matrix, c (NxN).\n",
    "        To do:  test\"\"\"\n",
    "        \n",
    "        ##### compute carr from a gamma distribution.  See Dickens, Fisher, Mehta (2016) #####\n",
    "        k_c = self.params.mu_c*self.params.mu_c/self.params.sig2_c/self.params.N\n",
    "        theta_c = self.params.sig2_c/self.params.mu_c\n",
    "\n",
    "        self.carr = np.random.gamma(k_c,scale=theta_c,size = (self.params.N,self.params.N))\n",
    "        \n",
    "        ##### compute larr using constant lambda  #####\n",
    "        self.larr = self.params.lam*np.ones((self.params.M,self.params.M,self.params.N))\n",
    "        \n",
    "        ##### compute darr and Karr from a joint lognormal distribution.  let p = (d,K) #####\n",
    "        ld = np.log(self.params.mu_d*self.params.mu_d/np.sqrt(self.params.mu_d*self.params.mu_d + self.params.sig2_d ))\n",
    "        z2d = np.log(1+self.params.sig2_d/self.params.mu_d/self.params.mu_d)\n",
    "        \n",
    "        lK = np.log(self.params.mu_K*self.params.mu_K/np.sqrt(self.params.mu_K*self.params.mu_K + self.params.sig2_K ))\n",
    "        z2K = np.log(1+self.params.sig2_K/self.params.mu_K/self.params.mu_K)\n",
    "        \n",
    "        z2dK = np.log(1+self.params.dKcov/self.params.mu_K/self.params.mu_d)\n",
    "        \n",
    "        cov_arr = np.array([[z2d, -z2dK],\n",
    "                        [-z2dK, z2K]])\n",
    "        \n",
    "        mean_arr = np.array([ld, lK])\n",
    "        \n",
    "        #logp = np.random.multivariate_normal(mean_arr,cov_arr,size=self.params.M*self.params.M*self.params.N)\n",
    "        logp = np.random.multivariate_normal(mean_arr,cov_arr,size=self.params.N)\n",
    "        \n",
    "        p = np.exp(logp)\n",
    "        #self.darr = p[:,0].reshape(self.params.M,self.params.M,self.params.N)\n",
    "        #self.Karr = p[:,1].reshape(self.params.M,self.params.M,self.params.N)\n",
    "        Karr = p[:,1].reshape(1,1,self.params.N)\n",
    "        self.Karr = np.tile(Karr,(self.params.M,self.params.M,1))\n",
    "        \n",
    "        darr = p[:,0].reshape(1,1,self.params.N)\n",
    "        self.darr = np.tile(darr,(self.params.M,self.params.M,1))\n",
    "\n",
    "        \n",
    "    def update(self):\n",
    "        \"\"\"function for updating in one timestep\"\"\"\n",
    "        \n",
    "        ####### set things up ########\n",
    "        \n",
    "        # generate random numbers for each species at each lattice site\n",
    "        random_numbers = np.random.rand(self.params.M,self.params.M,self.params.N)\n",
    "        \n",
    "        # compute eps\n",
    "        ############# NEED TO INCLUDE K IN INTERACTION TERM !!!! ###########\n",
    "        Keff = self.Karr - np.tensordot(self.s*self.Karr,self.carr,axes = 1)\n",
    "        eps = np.exp(-Keff/self.params.w)\n",
    "        \n",
    "        # compute pImmigrate \n",
    "        pImmigrate = self.larr*(1-self.s) \n",
    "        \n",
    "        # compute pExtinct\n",
    "        pExtinct = eps*self.s\n",
    "\n",
    "        # compute pDisperse\n",
    "        sLeft = np.roll(self.s,1,axis=1)\n",
    "        sRight = np.roll(self.s,-1,axis=1)\n",
    "        sTop = np.roll(self.s,1,axis=0)\n",
    "        sBottom = np.roll(self.s,-1,axis=0)\n",
    "        \n",
    "        pDisperse = self.darr*(1-self.s)*(sLeft+sRight+sTop+sBottom)/4\n",
    "        \n",
    "        ####### make transitions #######\n",
    "        #print(self.s[0,0,0])\n",
    "        #print(pExtinct[0,0,0])\n",
    "        # immigrate\n",
    "        self.s[random_numbers < pImmigrate] = 1\n",
    "        #if random_numbers[0,0,0] < pImmigrate[0,0,0]:\n",
    "            #print('?')\n",
    "            #print(self.s[0,0,0])\n",
    "            #print(pExtinct[0,0,0])\n",
    "\n",
    "        # go extinct\n",
    "        self.s[random_numbers < pExtinct] = 0\n",
    "        #if random_numbers[0,0,0] < pImmigrate[0,0,0] + pExtinct[0,0,0]:\n",
    "            #print('!')\n",
    "            #print(self.s[0,0,0])\n",
    "        \n",
    "        # disperse\n",
    "        self.s[random_numbers < pDisperse] = 1\n",
    "        \n",
    "    def evolve(self):\n",
    "        \"\"\"run update numsteps times.\"\"\"\n",
    "        for n in range(self.params.numsteps):\n",
    "            self.update()\n",
    "            \n",
    "    def simulate(self):\n",
    "        \"\"\"evolve for numsteps and numtrials.  compute order parameters\"\"\"\n",
    "        Mmat = np.zeros((self.params.numsteps,self.params.numtrials))\n",
    "        running_time_average = np.zeros((self.params.M,self.params.M,self.params.N,self.params.numtrials))\n",
    "        for trial in range(self.params.numtrials):\n",
    "            self.initS()\n",
    "            self.initRates()\n",
    "            \n",
    "            for step in range(self.params.numsteps):\n",
    "                Mmat[step,trial] = np.sum(np.sum(np.sum(self.s)))/self.params.M/self.params.M\n",
    "                #alpha1_mat[step,trial] = 4/self.params.N*np.sum(np.sum(np.sum(self.s*self.s)))\n",
    "                #alpha2_mat[step,trial] = 4/self.params.N*np.sum(np.sum(np.sum(self.s)))\n",
    "                \n",
    "                running_time_average[:,:,:,trial] = self.s\n",
    "                if step > 200:\n",
    "                    running_time_average[:,:,:,trial] = (running_time_average[:,:,:,trial] + self.s)/2\n",
    "                    \n",
    "                #species1mat[step,trial] = self.s[0,0,0]\n",
    "                self.update()\n",
    "                \n",
    "        self.Marr = np.mean(Mmat,axis=1)\n",
    "        \n",
    "        #\n",
    "        self.alpha = np.mean(running_time_average*running_time_average,axis=3) - np.mean(running_time_average,axis=3)*np.mean(running_time_average,axis=3)\n",
    "        \n",
    "        #self.species1mat = species1mat\n",
    "                \n",
    "    \n",
    "            \n",
    "        \n",
    "                \n",
    "                    \n",
    "                    \n",
    "    \n",
    "    \n",
    "    "
   ]
  },
  {
   "cell_type": "code",
   "execution_count": 226,
   "metadata": {
    "collapsed": false
   },
   "outputs": [],
   "source": [
    "'''function for computing composite order parameter from M and alpha.\n",
    "\n",
    "   I cant figure out linear indexing right now cuz theres no wifi, \n",
    "   but that would be a better way of doing this.'''\n",
    "\n",
    "def computeC(mpa,Marr,alpha,gamma):\n",
    "    \n",
    "\n",
    "    C = np.zeros(Marr.shape)\n",
    "    g = np.zeros(Marr.shape)\n",
    "    \n",
    "    if np.array(Marr.shape).size == 2:\n",
    "        for m in range(Marr.shape[0]):\n",
    "            for n in range(Marr.shape[1]):\n",
    "                if Marr[m,n] > gamma:\n",
    "                    g[m,n] = (gamma-Marr[m,n])/(mpa.params.N-gamma)\n",
    "                else:\n",
    "                    g[m,n] = (gamma-Marr[m,n])/gamma\n",
    "                C[m,n] = (1-alpha[m,n]*4/mpa.params.N/mpa.params.M/mpa.params.M)*g[m,n]\n",
    "    elif np.array(Marr.shape).size == 1:\n",
    "        for m in range(Marr.shape[0]):\n",
    "            if Marr[m] > gamma:\n",
    "                g[m] = (gamma-Marr[m])/(mpa.params.N-gamma)\n",
    "            else:\n",
    "                g[m] = (gamma-Marr[m])/gamma\n",
    "            C[m] = (1-alpha[m]*4/mpa.params.N/mpa.params.M/mpa.params.M)*g[m]\n",
    "        \n",
    "    return C"
   ]
  },
  {
   "cell_type": "markdown",
   "metadata": {},
   "source": [
    "Here's an example of how to initialize the metapa class."
   ]
  },
  {
   "cell_type": "code",
   "execution_count": 462,
   "metadata": {
    "collapsed": false
   },
   "outputs": [
    {
     "name": "stdout",
     "output_type": "stream",
     "text": [
      "8 8 10\n"
     ]
    }
   ],
   "source": [
    "# initialize lattices with different sizes, species\n",
    "mpa = metapa()\n",
    "mpa.params.N = 10\n",
    "mpa.params.M = 8\n",
    "mpa.initS()\n",
    "#print(mpa.__dict__)\n",
    "print(len(mpa.s), len(mpa.s[0]), len(mpa.s[0][0]))\n",
    "\n",
    "#print(mpa.s[:,:,0])"
   ]
  },
  {
   "cell_type": "markdown",
   "metadata": {},
   "source": [
    "First calculation: compute order parameters as a function of mu_c for a single patch model, and compare to original pa model paper."
   ]
  },
  {
   "cell_type": "code",
   "execution_count": 219,
   "metadata": {
    "collapsed": false
   },
   "outputs": [
    {
     "name": "stdout",
     "output_type": "stream",
     "text": [
      "m =  0\n",
      "m =  1\n",
      "m =  2\n",
      "m =  3\n",
      "m =  4\n",
      "m =  5\n",
      "m =  6\n",
      "done!\n"
     ]
    }
   ],
   "source": [
    "# compute order parameters as a function of mu_c\n",
    "\n",
    "# define array of mu_c values\n",
    "#mu_c_arr = np.array([.1, 1, 4, 8, 12, 16, 20, 24])\n",
    "mu_c_arr = np.array([.1, 1, 2,3, 4, 5, 6])\n",
    "\n",
    "# preallocate order parameter arrays\n",
    "Marr = np.zeros(mu_c_arr.size)\n",
    "alpha = np.zeros(mu_c_arr.size)\n",
    "\n",
    "# create instance of metapa class and set parameters\n",
    "mpa = metapa()\n",
    "mpa.params.M = 1\n",
    "mpa.params.N = 20\n",
    "mpa.params.numsteps = 4000\n",
    "mpa.params.numtrials = 5\n",
    "mpa.params.mu_d = .001#2\n",
    "mpa.params.mu_K = 100\n",
    "mpa.params.w = 1\n",
    "mpa.params.lam = .01# 0.\n",
    "mpa.params.sig2_c = .2\n",
    "mpa.params.sig2_K = 0\n",
    "mpa.params.sig2_d = 0\n",
    "\n",
    "# loop through mu_c values, simulate, and compute order parameters\n",
    "for m in range(mu_c_arr.size):\n",
    "    print('m = ', m)\n",
    "    mpa.params.mu_c = mu_c_arr[m]#*mpa.params.N\n",
    "    \n",
    "    # simualte!\n",
    "    mpa.simulate()\n",
    "    \n",
    "    # compute order parameters\n",
    "    Marr[m] = np.mean(mpa.Marr[np.int(mpa.params.numsteps/2)::])\n",
    "    alpha[m] = np.sum(np.sum(np.sum(mpa.alpha)))*4/mpa.params.N/mpa.params.M/mpa.params.M\n",
    "\n",
    "\n",
    "print('done!')            \n",
    "    \n",
    "\n",
    "    "
   ]
  },
  {
   "cell_type": "code",
   "execution_count": 227,
   "metadata": {
    "collapsed": false
   },
   "outputs": [
    {
     "name": "stdout",
     "output_type": "stream",
     "text": [
      "[-0.7760016   0.28293503  0.54788809  0.67342181  0.74818371  0.81632274\n",
      "  0.8517877 ]\n"
     ]
    }
   ],
   "source": [
    "# compute composite order parameter\n",
    "\n",
    "gamma = 19\n",
    "C = computeC(mpa,Marr,alpha,gamma)\n",
    "print(C)"
   ]
  },
  {
   "cell_type": "code",
   "execution_count": 229,
   "metadata": {
    "collapsed": false,
    "scrolled": false
   },
   "outputs": [
    {
     "data": {
      "image/png": "[encoded data removed]",
      "text/plain": [
       "<matplotlib.figure.Figure at 0x1065a4f98>"
      ]
     },
     "metadata": {},
     "output_type": "display_data"
    },
    {
     "data": {
      "image/png": "[encoded data removed]",
      "text/plain": [
       "<matplotlib.figure.Figure at 0x1079a7710>"
      ]
     },
     "metadata": {},
     "output_type": "display_data"
    },
    {
     "data": {
      "image/png": "[encoded data removed]",
      "text/plain": [
       "<matplotlib.figure.Figure at 0x1059b2d30>"
      ]
     },
     "metadata": {},
     "output_type": "display_data"
    }
   ],
   "source": [
    "# plot order parameters\n",
    "\n",
    "%matplotlib inline\n",
    "import matplotlib.pyplot as plt\n",
    "\n",
    "plt.plot(mu_c_arr,Marr)\n",
    "plt.ylabel('M')\n",
    "plt.xlabel('mu_c')\n",
    "plt.show()\n",
    "\n",
    "plt.plot(mu_c_arr,alpha)\n",
    "plt.ylabel('alpha')\n",
    "plt.xlabel('mu_c')\n",
    "plt.show()\n",
    "\n",
    "plt.plot(mu_c_arr,C)\n",
    "plt.ylabel('C')\n",
    "plt.xlabel('mu_c')\n",
    "plt.show()"
   ]
  },
  {
   "cell_type": "markdown",
   "metadata": {},
   "source": [
    "Second calculation: make phase diagram for mu_c and sig2_c"
   ]
  },
  {
   "cell_type": "code",
   "execution_count": 212,
   "metadata": {
    "collapsed": false
   },
   "outputs": [
    {
     "name": "stdout",
     "output_type": "stream",
     "text": [
      "m =  0\n",
      "m =  1\n",
      "m =  2\n",
      "m =  3\n",
      "m =  4\n",
      "m =  5\n",
      "m =  6\n",
      "done!\n"
     ]
    }
   ],
   "source": [
    "# compute order parameters as a function of mu_c and sig2_c\n",
    "\n",
    "# define array of mu_c values\n",
    "#mu_c_arr = np.array([.1, 1, 4, 8, 12, 16, 20, 24])\n",
    "mu_c_arr = np.array([.1,.5,1,2,2.5,3,4])\n",
    "\n",
    "# define array of sig2_c values\n",
    "sig2_c_arr = (np.array([.01,.05,.1,.15,.2,.3,.4]))**2\n",
    "\n",
    "# preallocate order parameter arrays\n",
    "Marr = np.zeros((mu_c_arr.size,sig2_c_arr.size))\n",
    "alpha = np.zeros((mu_c_arr.size,sig2_c_arr.size))\n",
    "\n",
    "# create instance of metapa class and set parameters\n",
    "mpa = metapa()\n",
    "mpa.params.M = 1\n",
    "mpa.params.N = 20\n",
    "mpa.params.numsteps = 4000\n",
    "mpa.params.numtrials = 5\n",
    "mpa.params.mu_d = .001#2\n",
    "mpa.params.mu_K = 100\n",
    "mpa.params.w = 1\n",
    "mpa.params.lam = .01# 0.\n",
    "mpa.params.sig2_K = 0\n",
    "mpa.params.sig2_d = 0\n",
    "\n",
    "# loop through mu_c values, simulate, and compute order parameters\n",
    "for m in range(mu_c_arr.size):\n",
    "    print('m = ', m)\n",
    "\n",
    "    for n in range(sig2_c_arr.size):\n",
    "        mpa.params.mu_c = mu_c_arr[m]#*mpa.params.N\n",
    "        mpa.params.sig2_c = sig2_c_arr[n]\n",
    "    \n",
    "        # simualte!\n",
    "        mpa.simulate()\n",
    "    \n",
    "        # compute order parameters\n",
    "        Marr[m,n] = np.mean(mpa.Marr[np.int(mpa.params.numsteps/2)::])\n",
    "        alpha[m,n] = np.sum(np.sum(np.sum(mpa.alpha)))*4/mpa.params.N/mpa.params.M/mpa.params.M\n",
    "\n",
    "\n",
    "print('done!')            \n",
    "    \n",
    "\n",
    "    "
   ]
  },
  {
   "cell_type": "code",
   "execution_count": 213,
   "metadata": {
    "collapsed": false
   },
   "outputs": [
    {
     "name": "stdout",
     "output_type": "stream",
     "text": [
      "[[-1.         -1.         -0.98902944 -0.45875184  0.00691597 -0.3986952\n",
      "   0.00444867]\n",
      " [ 0.05582308  0.00829013  0.03994392  0.07820279  0.06176261  0.04562729\n",
      "   0.13375458]\n",
      " [ 0.30838282  0.30094173  0.298986    0.24866898  0.29704133  0.31987887\n",
      "   0.27876717]\n",
      " [ 0.56482653  0.54871667  0.5811266   0.55428801  0.55423921  0.55066643\n",
      "   0.52240678]\n",
      " [ 0.6553952   0.64112653  0.64738403  0.66737505  0.62184487  0.62399861\n",
      "   0.64125647]\n",
      " [ 0.70907091  0.70343967  0.66764909  0.68113947  0.69467633  0.69998147\n",
      "   0.67219791]\n",
      " [ 0.76773655  0.76345186  0.77936569  0.75424458  0.77090601  0.78109693\n",
      "   0.76701853]]\n"
     ]
    }
   ],
   "source": [
    "# compute composite order parameter\n",
    "\n",
    "gamma = 19\n",
    "C = computeC(mpa,Marr,alpha,gamma)\n",
    "print(C)"
   ]
  },
  {
   "cell_type": "code",
   "execution_count": 216,
   "metadata": {
    "collapsed": false,
    "scrolled": true
   },
   "outputs": [
    {
     "data": {
      "image/png": "[encoded data removed]",
      "text/plain": [
       "<matplotlib.figure.Figure at 0x1079778d0>"
      ]
     },
     "metadata": {},
     "output_type": "display_data"
    },
    {
     "data": {
      "image/png": "[encoded data removed]",
      "text/plain": [
       "<matplotlib.figure.Figure at 0x1079680f0>"
      ]
     },
     "metadata": {},
     "output_type": "display_data"
    },
    {
     "data": {
      "image/png": "[encoded data removed]",
      "text/plain": [
       "<matplotlib.figure.Figure at 0x105d2fcf8>"
      ]
     },
     "metadata": {},
     "output_type": "display_data"
    }
   ],
   "source": [
    "# plot order parameters\n",
    "\n",
    "%matplotlib inline\n",
    "\n",
    "c = plt.contourf(mu_c_arr,np.sqrt(sig2_c_arr),C.T)\n",
    "plt.colorbar(c)\n",
    "plt.xlabel('mu_c')\n",
    "plt.ylabel('sig_c')\n",
    "plt.title('composite order parameter')\n",
    "\n",
    "\n",
    "plt.show()\n",
    "\n",
    "c = plt.contourf(mu_c_arr,np.sqrt(sig2_c_arr),Marr.T)\n",
    "plt.colorbar(c)\n",
    "plt.xlabel('mu_c')\n",
    "plt.ylabel('sig_c')\n",
    "plt.title('M')\n",
    "\n",
    "\n",
    "plt.show()\n",
    "\n",
    "c = plt.contourf(mu_c_arr,np.sqrt(sig2_c_arr),alpha.T)\n",
    "plt.colorbar(c)\n",
    "plt.xlabel('mu_c')\n",
    "plt.ylabel('sig_c')\n",
    "plt.title('alpha')\n",
    "\n",
    "\n",
    "plt.show()\n",
    "\n",
    "\n",
    "\n",
    "\n",
    "\n"
   ]
  },
  {
   "cell_type": "markdown",
   "metadata": {},
   "source": [
    "Third calculation: compute order parameters as a function of mu_c for a MULTI patch model, and compare to original pa model paper."
   ]
  },
  {
   "cell_type": "code",
   "execution_count": 248,
   "metadata": {
    "collapsed": false
   },
   "outputs": [
    {
     "name": "stdout",
     "output_type": "stream",
     "text": [
      "m =  0\n",
      "m =  1\n"
     ]
    },
    {
     "ename": "KeyboardInterrupt",
     "evalue": "",
     "output_type": "error",
     "traceback": [
      "\u001b[0;31m---------------------------------------------------------------------------\u001b[0m",
      "\u001b[0;31mKeyboardInterrupt\u001b[0m                         Traceback (most recent call last)",
      "\u001b[0;32m<ipython-input-248-a608388aefb4>\u001b[0m in \u001b[0;36m<module>\u001b[0;34m()\u001b[0m\n\u001b[1;32m     30\u001b[0m \u001b[0;34m\u001b[0m\u001b[0m\n\u001b[1;32m     31\u001b[0m     \u001b[0;31m# simualte!\u001b[0m\u001b[0;34m\u001b[0m\u001b[0;34m\u001b[0m\u001b[0m\n\u001b[0;32m---> 32\u001b[0;31m     \u001b[0mmpa\u001b[0m\u001b[0;34m.\u001b[0m\u001b[0msimulate\u001b[0m\u001b[0;34m(\u001b[0m\u001b[0;34m)\u001b[0m\u001b[0;34m\u001b[0m\u001b[0m\n\u001b[0m\u001b[1;32m     33\u001b[0m \u001b[0;34m\u001b[0m\u001b[0m\n\u001b[1;32m     34\u001b[0m     \u001b[0;31m# compute order parameters\u001b[0m\u001b[0;34m\u001b[0m\u001b[0;34m\u001b[0m\u001b[0m\n",
      "\u001b[0;32m<ipython-input-204-54934efdfad0>\u001b[0m in \u001b[0;36msimulate\u001b[0;34m(self)\u001b[0m\n\u001b[1;32m    142\u001b[0m \u001b[0;34m\u001b[0m\u001b[0m\n\u001b[1;32m    143\u001b[0m                 \u001b[0;31m#species1mat[step,trial] = self.s[0,0,0]\u001b[0m\u001b[0;34m\u001b[0m\u001b[0;34m\u001b[0m\u001b[0m\n\u001b[0;32m--> 144\u001b[0;31m                 \u001b[0mself\u001b[0m\u001b[0;34m.\u001b[0m\u001b[0mupdate\u001b[0m\u001b[0;34m(\u001b[0m\u001b[0;34m)\u001b[0m\u001b[0;34m\u001b[0m\u001b[0m\n\u001b[0m\u001b[1;32m    145\u001b[0m \u001b[0;34m\u001b[0m\u001b[0m\n\u001b[1;32m    146\u001b[0m         \u001b[0mself\u001b[0m\u001b[0;34m.\u001b[0m\u001b[0mMarr\u001b[0m \u001b[0;34m=\u001b[0m \u001b[0mnp\u001b[0m\u001b[0;34m.\u001b[0m\u001b[0mmean\u001b[0m\u001b[0;34m(\u001b[0m\u001b[0mMmat\u001b[0m\u001b[0;34m,\u001b[0m\u001b[0maxis\u001b[0m\u001b[0;34m=\u001b[0m\u001b[0;36m1\u001b[0m\u001b[0;34m)\u001b[0m\u001b[0;34m\u001b[0m\u001b[0m\n",
      "\u001b[0;32m<ipython-input-204-54934efdfad0>\u001b[0m in \u001b[0;36mupdate\u001b[0;34m(self)\u001b[0m\n\u001b[1;32m     79\u001b[0m \u001b[0;34m\u001b[0m\u001b[0m\n\u001b[1;32m     80\u001b[0m         \u001b[0;31m# generate random numbers for each species at each lattice site\u001b[0m\u001b[0;34m\u001b[0m\u001b[0;34m\u001b[0m\u001b[0m\n\u001b[0;32m---> 81\u001b[0;31m         \u001b[0mrandom_numbers\u001b[0m \u001b[0;34m=\u001b[0m \u001b[0mnp\u001b[0m\u001b[0;34m.\u001b[0m\u001b[0mrandom\u001b[0m\u001b[0;34m.\u001b[0m\u001b[0mrand\u001b[0m\u001b[0;34m(\u001b[0m\u001b[0mself\u001b[0m\u001b[0;34m.\u001b[0m\u001b[0mparams\u001b[0m\u001b[0;34m.\u001b[0m\u001b[0mM\u001b[0m\u001b[0;34m,\u001b[0m\u001b[0mself\u001b[0m\u001b[0;34m.\u001b[0m\u001b[0mparams\u001b[0m\u001b[0;34m.\u001b[0m\u001b[0mM\u001b[0m\u001b[0;34m,\u001b[0m\u001b[0mself\u001b[0m\u001b[0;34m.\u001b[0m\u001b[0mparams\u001b[0m\u001b[0;34m.\u001b[0m\u001b[0mN\u001b[0m\u001b[0;34m)\u001b[0m\u001b[0;34m\u001b[0m\u001b[0m\n\u001b[0m\u001b[1;32m     82\u001b[0m \u001b[0;34m\u001b[0m\u001b[0m\n\u001b[1;32m     83\u001b[0m         \u001b[0;31m# compute eps\u001b[0m\u001b[0;34m\u001b[0m\u001b[0;34m\u001b[0m\u001b[0m\n",
      "\u001b[0;31mKeyboardInterrupt\u001b[0m: "
     ]
    }
   ],
   "source": [
    "# compute order parameters as a function of mu_c\n",
    "\n",
    "# define array of mu_c values\n",
    "#mu_c_arr = np.array([.1, 1, 4, 8, 12, 16, 20, 24])\n",
    "mu_c_arr = np.array([.1, 1, 2,3, 4, 5, 6])\n",
    "\n",
    "# preallocate order parameter arrays\n",
    "Marr = np.zeros(mu_c_arr.size)\n",
    "alpha = np.zeros(mu_c_arr.size)\n",
    "\n",
    "# create instance of metapa class and set parameters\n",
    "mpa = metapa()\n",
    "mpa.params.M = 20\n",
    "mpa.params.N = 20\n",
    "mpa.params.numsteps = 4000\n",
    "mpa.params.numtrials = 5\n",
    "mpa.params.mu_d = .5#2\n",
    "mpa.params.mu_K = 100\n",
    "mpa.params.w = 1\n",
    "mpa.params.lam =  0. #.01\n",
    "mpa.params.sig2_c = .2\n",
    "mpa.params.sig2_K = .125\n",
    "mpa.params.sig2_d = .125\n",
    "mpa.params.dKcov = .1\n",
    "\n",
    "# loop through mu_c values, simulate, and compute order parameters\n",
    "for m in range(mu_c_arr.size):\n",
    "    print('m = ', m)\n",
    "    mpa.params.mu_c = mu_c_arr[m]#*mpa.params.N\n",
    "    \n",
    "    # simualte!\n",
    "    mpa.simulate()\n",
    "    \n",
    "    # compute order parameters\n",
    "    Marr[m] = np.mean(mpa.Marr[np.int(mpa.params.numsteps/2)::])\n",
    "    alpha[m] = np.sum(np.sum(np.sum(mpa.alpha)))*4/mpa.params.N/mpa.params.M/mpa.params.M\n",
    "\n",
    "\n",
    "print('done!')            \n",
    "    \n",
    "\n",
    "    "
   ]
  },
  {
   "cell_type": "code",
   "execution_count": 246,
   "metadata": {
    "collapsed": false
   },
   "outputs": [
    {
     "name": "stdout",
     "output_type": "stream",
     "text": [
      "[-0.62497555  0.19786897  0.54186704  0.68022754  0.78145405  0.82740962\n",
      "  0.85582244]\n"
     ]
    }
   ],
   "source": [
    "# compute composite order parameter\n",
    "\n",
    "gamma = 19\n",
    "C = computeC(mpa,Marr,alpha,gamma)\n",
    "print(C)"
   ]
  },
  {
   "cell_type": "code",
   "execution_count": 247,
   "metadata": {
    "collapsed": false,
    "scrolled": false
   },
   "outputs": [
    {
     "data": {
      "image/png": "[encoded data removed]",
      "text/plain": [
       "<matplotlib.figure.Figure at 0x104199e10>"
      ]
     },
     "metadata": {},
     "output_type": "display_data"
    },
    {
     "data": {
      "image/png": "[encoded data removed]",
      "text/plain": [
       "<matplotlib.figure.Figure at 0x105edd4a8>"
      ]
     },
     "metadata": {},
     "output_type": "display_data"
    },
    {
     "data": {
      "image/png": "[encoded data removed]",
      "text/plain": [
       "<matplotlib.figure.Figure at 0x105d231d0>"
      ]
     },
     "metadata": {},
     "output_type": "display_data"
    }
   ],
   "source": [
    "# plot order parameters\n",
    "\n",
    "%matplotlib inline\n",
    "import matplotlib.pyplot as plt\n",
    "\n",
    "plt.plot(mu_c_arr,Marr)\n",
    "plt.ylabel('M')\n",
    "plt.xlabel('mu_c')\n",
    "plt.show()\n",
    "\n",
    "plt.plot(mu_c_arr,alpha)\n",
    "plt.ylabel('alpha')\n",
    "plt.xlabel('mu_c')\n",
    "plt.show()\n",
    "\n",
    "plt.plot(mu_c_arr,C)\n",
    "plt.ylabel('C')\n",
    "plt.xlabel('mu_c')\n",
    "plt.show()"
   ]
  },
  {
   "cell_type": "markdown",
   "metadata": {},
   "source": [
    "SCRAP PAPER"
   ]
  },
  {
   "cell_type": "code",
   "execution_count": 217,
   "metadata": {
    "collapsed": false
   },
   "outputs": [],
   "source": [
    "Keff = mpa.Karr - mpa.s*np.tensordot(mpa.Karr*mpa.s,mpa.carr,axes = 1)\n",
    "#print(Keff)\n",
    "#print(mpa.Karr)\n",
    "#np.exp(-Keff)"
   ]
  },
  {
   "cell_type": "code",
   "execution_count": 113,
   "metadata": {
    "collapsed": false
   },
   "outputs": [
    {
     "data": {
      "text/plain": [
       "{'M': 1,\n",
       " 'N': 20,\n",
       " 'dKcov': 0.02,\n",
       " 'lam': 0.01,\n",
       " 'mu_K': 100,\n",
       " 'mu_c': 120,\n",
       " 'mu_d': 0.001,\n",
       " 'numsteps': 40000,\n",
       " 'numtrials': 5,\n",
       " 'sig2_K': 70.0,\n",
       " 'sig2_c': 10.0,\n",
       " 'sig2_d': 0.05,\n",
       " 'w': 1.0}"
      ]
     },
     "execution_count": 113,
     "metadata": {},
     "output_type": "execute_result"
    }
   ],
   "source": [
    "mpa.params.__dict__"
   ]
  },
  {
   "cell_type": "code",
   "execution_count": 151,
   "metadata": {
    "collapsed": false
   },
   "outputs": [
    {
     "name": "stdout",
     "output_type": "stream",
     "text": [
      "[ 0.04  0.16  0.36]\n"
     ]
    }
   ],
   "source": [
    "print(np.array([.2, .4 ,.6])**2)"
   ]
  },
  {
   "cell_type": "code",
   "execution_count": 237,
   "metadata": {
    "collapsed": false
   },
   "outputs": [
    {
     "name": "stdout",
     "output_type": "stream",
     "text": [
      "Help on built-in function multivariate_normal:\n",
      "\n",
      "multivariate_normal(...) method of mtrand.RandomState instance\n",
      "    multivariate_normal(mean, cov[, size])\n",
      "    \n",
      "    Draw random samples from a multivariate normal distribution.\n",
      "    \n",
      "    The multivariate normal, multinormal or Gaussian distribution is a\n",
      "    generalization of the one-dimensional normal distribution to higher\n",
      "    dimensions.  Such a distribution is specified by its mean and\n",
      "    covariance matrix.  These parameters are analogous to the mean\n",
      "    (average or \"center\") and variance (standard deviation, or \"width,\"\n",
      "    squared) of the one-dimensional normal distribution.\n",
      "    \n",
      "    Parameters\n",
      "    ----------\n",
      "    mean : 1-D array_like, of length N\n",
      "        Mean of the N-dimensional distribution.\n",
      "    cov : 2-D array_like, of shape (N, N)\n",
      "        Covariance matrix of the distribution. It must be symmetric and\n",
      "        positive-semidefinite for proper sampling.\n",
      "    size : int or tuple of ints, optional\n",
      "        Given a shape of, for example, ``(m,n,k)``, ``m*n*k`` samples are\n",
      "        generated, and packed in an `m`-by-`n`-by-`k` arrangement.  Because\n",
      "        each sample is `N`-dimensional, the output shape is ``(m,n,k,N)``.\n",
      "        If no shape is specified, a single (`N`-D) sample is returned.\n",
      "    \n",
      "    Returns\n",
      "    -------\n",
      "    out : ndarray\n",
      "        The drawn samples, of shape *size*, if that was provided.  If not,\n",
      "        the shape is ``(N,)``.\n",
      "    \n",
      "        In other words, each entry ``out[i,j,...,:]`` is an N-dimensional\n",
      "        value drawn from the distribution.\n",
      "    \n",
      "    Notes\n",
      "    -----\n",
      "    The mean is a coordinate in N-dimensional space, which represents the\n",
      "    location where samples are most likely to be generated.  This is\n",
      "    analogous to the peak of the bell curve for the one-dimensional or\n",
      "    univariate normal distribution.\n",
      "    \n",
      "    Covariance indicates the level to which two variables vary together.\n",
      "    From the multivariate normal distribution, we draw N-dimensional\n",
      "    samples, :math:`X = [x_1, x_2, ... x_N]`.  The covariance matrix\n",
      "    element :math:`C_{ij}` is the covariance of :math:`x_i` and :math:`x_j`.\n",
      "    The element :math:`C_{ii}` is the variance of :math:`x_i` (i.e. its\n",
      "    \"spread\").\n",
      "    \n",
      "    Instead of specifying the full covariance matrix, popular\n",
      "    approximations include:\n",
      "    \n",
      "      - Spherical covariance (*cov* is a multiple of the identity matrix)\n",
      "      - Diagonal covariance (*cov* has non-negative elements, and only on\n",
      "        the diagonal)\n",
      "    \n",
      "    This geometrical property can be seen in two dimensions by plotting\n",
      "    generated data-points:\n",
      "    \n",
      "    >>> mean = [0, 0]\n",
      "    >>> cov = [[1, 0], [0, 100]]  # diagonal covariance\n",
      "    \n",
      "    Diagonal covariance means that points are oriented along x or y-axis:\n",
      "    \n",
      "    >>> import matplotlib.pyplot as plt\n",
      "    >>> x, y = np.random.multivariate_normal(mean, cov, 5000).T\n",
      "    >>> plt.plot(x, y, 'x')\n",
      "    >>> plt.axis('equal')\n",
      "    >>> plt.show()\n",
      "    \n",
      "    Note that the covariance matrix must be positive semidefinite (a.k.a.\n",
      "    nonnegative-definite). Otherwise, the behavior of this method is\n",
      "    undefined and backwards compatibility is not guaranteed.\n",
      "    \n",
      "    References\n",
      "    ----------\n",
      "    .. [1] Papoulis, A., \"Probability, Random Variables, and Stochastic\n",
      "           Processes,\" 3rd ed., New York: McGraw-Hill, 1991.\n",
      "    .. [2] Duda, R. O., Hart, P. E., and Stork, D. G., \"Pattern\n",
      "           Classification,\" 2nd ed., New York: Wiley, 2001.\n",
      "    \n",
      "    Examples\n",
      "    --------\n",
      "    >>> mean = (1, 2)\n",
      "    >>> cov = [[1, 0], [0, 1]]\n",
      "    >>> x = np.random.multivariate_normal(mean, cov, (3, 3))\n",
      "    >>> x.shape\n",
      "    (3, 3, 2)\n",
      "    \n",
      "    The following is probably true, given that 0.6 is roughly twice the\n",
      "    standard deviation:\n",
      "    \n",
      "    >>> list((x[0,0,:] - mean) < 0.6)\n",
      "    [True, True]\n",
      "\n"
     ]
    }
   ],
   "source": [
    "help(np.random.multivariate_normal)"
   ]
  },
  {
   "cell_type": "code",
   "execution_count": 244,
   "metadata": {
    "collapsed": false
   },
   "outputs": [
    {
     "data": {
      "text/plain": [
       "<function matplotlib.pyplot.show>"
      ]
     },
     "execution_count": 244,
     "metadata": {},
     "output_type": "execute_result"
    },
    {
     "data": {
      "image/png": "[encoded data removed]",
      "text/plain": [
       "<matplotlib.figure.Figure at 0x105d40f28>"
      ]
     },
     "metadata": {},
     "output_type": "display_data"
    }
   ],
   "source": [
    "%matplotlib inline\n",
    "\n",
    "s = -.5\n",
    "numsamps = 1000\n",
    "mean = np.array([0,0])\n",
    "cov = np.array([[1,s],\n",
    "               [s,1]])\n",
    "p = np.random.multivariate_normal(mean,cov,numsamps)\n",
    "\n",
    "x1 = p[:,0]\n",
    "x2 = p[:,1]\n",
    "\n",
    "plt.scatter(x1,x2)\n",
    "plt.show\n"
   ]
  },
  {
   "cell_type": "markdown",
   "metadata": {},
   "source": [
    "mpa.params.sig2_c = np.array(.8*20*5)**2\n",
    "\n",
    "k_c = mpa.params.mu_c*mpa.params.mu_c/mpa.params.sig2_c/mpa.params.N\n",
    "theta_c = mpa.params.sig2_c/mpa.params.mu_c\n",
    "\n",
    "carr = np.random.gamma(k_c,scale=theta_c,size = (mpa.params.N,mpa.params.N))\n",
    "\n",
    "print(np.sqrt(mpa.params.sig2_c/mpa.params.N))\n",
    "print(np.sqrt(np.var(carr)))\n",
    "print(mpa.params.mu_c/mpa.params.N)\n",
    "print(np.mean(carr))\n",
    "\n",
    "print(np.sqrt(np.var(carr))/np.mean(carr))"
   ]
  },
  {
   "cell_type": "code",
   "execution_count": 222,
   "metadata": {
    "collapsed": false
   },
   "outputs": [
    {
     "data": {
      "text/plain": [
       "2"
      ]
     },
     "execution_count": 222,
     "metadata": {},
     "output_type": "execute_result"
    }
   ],
   "source": [
    "test = np.zeros((2,2))\n",
    "np.array(test.shape).size"
   ]
  },
  {
   "cell_type": "code",
   "execution_count": null,
   "metadata": {
    "collapsed": true
   },
   "outputs": [],
   "source": []
  }
 ],
 "metadata": {
  "kernelspec": {
   "display_name": "Python 3",
   "language": "python",
   "name": "python3"
  },
  "language_info": {
   "codemirror_mode": {
    "name": "ipython",
    "version": 3
   },
   "file_extension": ".py",
   "mimetype": "text/x-python",
   "name": "python",
   "nbconvert_exporter": "python",
   "pygments_lexer": "ipython3",
   "version": "3.5.1"
  }
 },
 "nbformat": 4,
 "nbformat_minor": 0
}
